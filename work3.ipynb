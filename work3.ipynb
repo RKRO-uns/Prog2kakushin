{
  "nbformat": 4,
  "nbformat_minor": 0,
  "metadata": {
    "colab": {
      "provenance": [],
      "authorship_tag": "ABX9TyPjlg/5HcnUUjRsEBeyzXVh",
      "include_colab_link": true
    },
    "kernelspec": {
      "name": "python3",
      "display_name": "Python 3"
    },
    "language_info": {
      "name": "python"
    }
  },
  "cells": [
    {
      "cell_type": "markdown",
      "metadata": {
        "id": "view-in-github",
        "colab_type": "text"
      },
      "source": [
        "<a href=\"https://colab.research.google.com/github/RKRO-uns/Prog2kakushin/blob/main/work3.ipynb\" target=\"_parent\"><img src=\"https://colab.research.google.com/assets/colab-badge.svg\" alt=\"Open In Colab\"/></a>"
      ]
    },
    {
      "cell_type": "code",
      "execution_count": 73,
      "metadata": {
        "id": "C-DbUm_bEAqk",
        "outputId": "6c5861b4-2dff-409b-ffb6-b64bdac6394c",
        "colab": {
          "base_uri": "https://localhost:8080/",
          "height": 1000
        }
      },
      "outputs": [
        {
          "output_type": "stream",
          "name": "stdout",
          "text": [
            "１ｍ離れてください。\n",
            "間違えるたびにランドルト環(C)は大きくなっていきます。\n",
            "２回正解する、もしくは４回間違うと結果が出ます。\n"
          ]
        },
        {
          "output_type": "display_data",
          "data": {
            "text/plain": [
              "<PIL.Image.Image image mode=RGB size=200x200>"
            ],
            "image/png": "[encoded data removed]"
          },
          "metadata": {}
        },
        {
          "output_type": "stream",
          "name": "stdout",
          "text": [
            "上,下,右,左どれ？右\n",
            "正解\n"
          ]
        },
        {
          "output_type": "display_data",
          "data": {
            "text/plain": [
              "<PIL.Image.Image image mode=RGB size=200x200>"
            ],
            "image/png": "[encoded data removed]"
          },
          "metadata": {}
        },
        {
          "output_type": "stream",
          "name": "stdout",
          "text": [
            "上,下,右,左どれ？下\n",
            "不正解\n"
          ]
        },
        {
          "output_type": "display_data",
          "data": {
            "text/plain": [
              "<PIL.Image.Image image mode=RGB size=200x200>"
            ],
            "image/png": "[encoded data removed]"
          },
          "metadata": {}
        },
        {
          "output_type": "stream",
          "name": "stdout",
          "text": [
            "上,下,右,左どれ？上\n",
            "不正解\n"
          ]
        },
        {
          "output_type": "display_data",
          "data": {
            "text/plain": [
              "<PIL.Image.Image image mode=RGB size=200x200>"
            ],
            "image/png": "[encoded data removed]"
          },
          "metadata": {}
        },
        {
          "output_type": "stream",
          "name": "stdout",
          "text": [
            "上,下,右,左どれ？右\n",
            "不正解\n"
          ]
        },
        {
          "output_type": "display_data",
          "data": {
            "text/plain": [
              "<PIL.Image.Image image mode=RGB size=200x200>"
            ],
            "image/png": "[encoded data removed]"
          },
          "metadata": {}
        },
        {
          "output_type": "stream",
          "name": "stdout",
          "text": [
            "上,下,右,左どれ？右\n",
            "正解\n",
            "視力Ｃです。\n"
          ]
        }
      ],
      "source": [
        "import numpy as np\n",
        "import cv2\n",
        "from google.colab.patches import cv2_imshow\n",
        "import random\n",
        "print(\"１ｍ離れてください。\")\n",
        "print(\"間違えるたびにランドルト環(C)は大きくなっていきます。\")\n",
        "print(\"２回正解する、もしくは４回間違うと結果が出ます。\")\n",
        "img = np.zeros( (200, 200, 3), np.uint8 )\n",
        "img2 = np.zeros( (200, 200, 3), np.uint8 )\n",
        "img.fill( 255 )\n",
        "img_center = (100,100)\n",
        "s=0\n",
        "axis1 = (3,3)\n",
        "axis7 = (4,4)\n",
        "axis5 = (6,6)\n",
        "axis3 = (10,10)\n",
        "while True:\n",
        "  img.fill( 255 )\n",
        "  a=random.randint(0,3)\n",
        "  b=24+a*90\n",
        "  c=336+a*90\n",
        "  if a==0:\n",
        "    d=\"右\"\n",
        "  elif a==1:\n",
        "    d=\"下\"\n",
        "  elif a==2:\n",
        "    d=\"左\"\n",
        "  else:\n",
        "    d=\"上\"\n",
        "  cv2.ellipse(img, img_center, axis1, 0, b,c, (0, 0, 0), thickness=1)\n",
        "  cv2_imshow(img)\n",
        "  e=input(\"上,下,右,左どれ？\")\n",
        "  if e==d:\n",
        "    print(\"正解\")\n",
        "    s+=1\n",
        "    if s==2:\n",
        "      print(\"視力Ａです\")\n",
        "      break\n",
        "    continue\n",
        "  else:\n",
        "    print(\"不正解\")\n",
        "    break\n",
        "\n",
        "img3 = np.zeros( (200, 200, 3), np.uint8 )\n",
        "img3.fill( 255 )\n",
        "while True:\n",
        "  img.fill( 255 )\n",
        "  a=random.randint(0,3)\n",
        "  b=24+a*90\n",
        "  c=336+a*90\n",
        "  if a==0:\n",
        "    d=\"右\"\n",
        "  elif a==1:\n",
        "    d=\"下\"\n",
        "  elif a==2:\n",
        "    d=\"左\"\n",
        "  else:\n",
        "    d=\"上\"\n",
        "  cv2.ellipse(img3, img_center, axis7, 0, b,c, (0, 0, 0), thickness=2)\n",
        "  cv2_imshow(img3)\n",
        "  e=input(\"上,下,右,左どれ？\")\n",
        "  if e==d:\n",
        "    print(\"正解\")\n",
        "    s+=1\n",
        "    if  s==2:\n",
        "      print(\"視力Ｂです\")\n",
        "      break\n",
        "    continue\n",
        "  else:\n",
        "    print(\"不正解\")\n",
        "    break\n",
        "\n",
        "img2 = np.zeros( (200, 200, 3), np.uint8 )\n",
        "img2.fill( 255 )\n",
        "while True:\n",
        "  img.fill( 255 )\n",
        "  a=random.randint(0,3)\n",
        "  b=24+a*90\n",
        "  c=336+a*90\n",
        "  if a==0:\n",
        "    d=\"右\"\n",
        "  elif a==1:\n",
        "    d=\"下\"\n",
        "  elif a==2:\n",
        "    d=\"左\"\n",
        "  else:\n",
        "    d=\"上\"\n",
        "  cv2.ellipse(img2, img_center, axis5, 0, b,c, (0, 0, 0), thickness=2)\n",
        "  cv2_imshow(img2)\n",
        "  e=input(\"上,下,右,左どれ？\")\n",
        "  if e==d:\n",
        "    print(\"正解\")\n",
        "    s+=1\n",
        "    if  s==2:\n",
        "      print(\"視力Cです\")\n",
        "      break\n",
        "    continue\n",
        "  else:\n",
        "    print(\"不正解\")\n",
        "    break\n",
        "\n",
        "img4 = np.zeros( (200, 200, 3), np.uint8 )\n",
        "img4.fill( 255 )\n",
        "while True:\n",
        "  img.fill( 255 )\n",
        "  a=random.randint(0,3)\n",
        "  b=24+a*90\n",
        "  c=336+a*90\n",
        "  if a==0:\n",
        "    d=\"右\"\n",
        "  elif a==1:\n",
        "    d=\"下\"\n",
        "  elif a==2:\n",
        "    d=\"左\"\n",
        "  else:\n",
        "    d=\"上\"\n",
        "  cv2.ellipse(img4, img_center, axis3, 0, b,c, (0, 0, 0), thickness=3)\n",
        "  cv2_imshow(img4)\n",
        "  e=input(\"上,下,右,左どれ？\")\n",
        "  if e==d:\n",
        "    print(\"正解\")\n",
        "    s+=1\n",
        "    if  s==2:\n",
        "      print(\"視力Ｃです。\")\n",
        "      break\n",
        "    continue\n",
        "  else:\n",
        "    print(\"不正解\")\n",
        "    print(\"視力Ｄです。\")\n",
        "    break\n"
      ]
    }
  ]
}